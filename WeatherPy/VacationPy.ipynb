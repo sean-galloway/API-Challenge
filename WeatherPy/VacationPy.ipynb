{
 "cells": [
  {
   "cell_type": "markdown",
   "metadata": {},
   "source": [
    "# VacationPy\n",
    "----\n",
    "\n",
    "#### Note\n",
    "* Keep an eye on your API usage. Use https://developers.google.com/maps/reporting/gmp-reporting as reference for how to monitor your usage and billing.\n",
    "\n",
    "* Instructions have been included for each segment. You do not have to follow them exactly, but they are included to help you think through the steps."
   ]
  },
  {
   "cell_type": "code",
   "execution_count": 1,
   "metadata": {},
   "outputs": [],
   "source": [
    "# Dependencies and Setup\n",
    "import matplotlib.pyplot as plt\n",
    "import pandas as pd\n",
    "import numpy as np\n",
    "import requests\n",
    "import gmaps\n",
    "import os\n",
    "\n",
    "# Import API key\n",
    "from api_keys import g_key"
   ]
  },
  {
   "cell_type": "markdown",
   "metadata": {},
   "source": [
    "### Store Part I results into DataFrame\n",
    "* Load the csv exported in Part I to a DataFrame"
   ]
  },
  {
   "cell_type": "code",
   "execution_count": 3,
   "metadata": {},
   "outputs": [
    {
     "data": {
      "text/html": [
       "<div>\n",
       "<style scoped>\n",
       "    .dataframe tbody tr th:only-of-type {\n",
       "        vertical-align: middle;\n",
       "    }\n",
       "\n",
       "    .dataframe tbody tr th {\n",
       "        vertical-align: top;\n",
       "    }\n",
       "\n",
       "    .dataframe thead th {\n",
       "        text-align: right;\n",
       "    }\n",
       "</style>\n",
       "<table border=\"1\" class=\"dataframe\">\n",
       "  <thead>\n",
       "    <tr style=\"text-align: right;\">\n",
       "      <th></th>\n",
       "      <th>City</th>\n",
       "      <th>Lat</th>\n",
       "      <th>Lng</th>\n",
       "      <th>Max Temp</th>\n",
       "      <th>Humidity</th>\n",
       "      <th>Cloudiness</th>\n",
       "      <th>Wind Speed</th>\n",
       "      <th>Country</th>\n",
       "      <th>Date</th>\n",
       "    </tr>\n",
       "    <tr>\n",
       "      <th>City_ID</th>\n",
       "      <th></th>\n",
       "      <th></th>\n",
       "      <th></th>\n",
       "      <th></th>\n",
       "      <th></th>\n",
       "      <th></th>\n",
       "      <th></th>\n",
       "      <th></th>\n",
       "      <th></th>\n",
       "    </tr>\n",
       "  </thead>\n",
       "  <tbody>\n",
       "    <tr>\n",
       "      <th>0</th>\n",
       "      <td>Tasiilaq</td>\n",
       "      <td>65.6145</td>\n",
       "      <td>-37.6368</td>\n",
       "      <td>26.91</td>\n",
       "      <td>67</td>\n",
       "      <td>0</td>\n",
       "      <td>8.01</td>\n",
       "      <td>GL</td>\n",
       "      <td>1604350800</td>\n",
       "    </tr>\n",
       "    <tr>\n",
       "      <th>1</th>\n",
       "      <td>Am Timan</td>\n",
       "      <td>11.0297</td>\n",
       "      <td>20.2827</td>\n",
       "      <td>81.81</td>\n",
       "      <td>34</td>\n",
       "      <td>29</td>\n",
       "      <td>2.55</td>\n",
       "      <td>TD</td>\n",
       "      <td>1604350800</td>\n",
       "    </tr>\n",
       "    <tr>\n",
       "      <th>2</th>\n",
       "      <td>Evensk</td>\n",
       "      <td>61.9500</td>\n",
       "      <td>159.2333</td>\n",
       "      <td>25.47</td>\n",
       "      <td>97</td>\n",
       "      <td>99</td>\n",
       "      <td>5.46</td>\n",
       "      <td>RU</td>\n",
       "      <td>1604350800</td>\n",
       "    </tr>\n",
       "    <tr>\n",
       "      <th>3</th>\n",
       "      <td>Wollongong</td>\n",
       "      <td>-34.4333</td>\n",
       "      <td>150.8833</td>\n",
       "      <td>61.52</td>\n",
       "      <td>80</td>\n",
       "      <td>24</td>\n",
       "      <td>1.79</td>\n",
       "      <td>AU</td>\n",
       "      <td>1604350800</td>\n",
       "    </tr>\n",
       "    <tr>\n",
       "      <th>4</th>\n",
       "      <td>Punta Arenas</td>\n",
       "      <td>-53.1500</td>\n",
       "      <td>-70.9167</td>\n",
       "      <td>56.21</td>\n",
       "      <td>56</td>\n",
       "      <td>87</td>\n",
       "      <td>2.42</td>\n",
       "      <td>CL</td>\n",
       "      <td>1604350800</td>\n",
       "    </tr>\n",
       "  </tbody>\n",
       "</table>\n",
       "</div>"
      ],
      "text/plain": [
       "                 City      Lat       Lng  Max Temp  Humidity  Cloudiness  \\\n",
       "City_ID                                                                    \n",
       "0            Tasiilaq  65.6145  -37.6368     26.91        67           0   \n",
       "1            Am Timan  11.0297   20.2827     81.81        34          29   \n",
       "2              Evensk  61.9500  159.2333     25.47        97          99   \n",
       "3          Wollongong -34.4333  150.8833     61.52        80          24   \n",
       "4        Punta Arenas -53.1500  -70.9167     56.21        56          87   \n",
       "\n",
       "         Wind Speed Country        Date  \n",
       "City_ID                                  \n",
       "0              8.01      GL  1604350800  \n",
       "1              2.55      TD  1604350800  \n",
       "2              5.46      RU  1604350800  \n",
       "3              1.79      AU  1604350800  \n",
       "4              2.42      CL  1604350800  "
      ]
     },
     "execution_count": 3,
     "metadata": {},
     "output_type": "execute_result"
    }
   ],
   "source": [
    "cities_csv = \"../output_data/cities.csv\"\n",
    "clean_city_data_df = pd.read_csv(cities_csv)\n",
    "clean_city_data_df = clean_city_data_df.set_index(\"City_ID\")\n",
    "clean_city_data_df.head()"
   ]
  },
  {
   "cell_type": "markdown",
   "metadata": {},
   "source": [
    "### Humidity Heatmap\n",
    "* Configure gmaps.\n",
    "* Use the Lat and Lng as locations and Humidity as the weight.\n",
    "* Add Heatmap layer to map."
   ]
  },
  {
   "cell_type": "code",
   "execution_count": 5,
   "metadata": {},
   "outputs": [
    {
     "data": {
      "text/plain": [
       "City_ID\n",
       "0    67.0\n",
       "1    34.0\n",
       "2    97.0\n",
       "3    80.0\n",
       "4    56.0\n",
       "Name: Humidity, dtype: float64"
      ]
     },
     "execution_count": 5,
     "metadata": {},
     "output_type": "execute_result"
    }
   ],
   "source": [
    "gmaps.configure(api_key=g_key)\n",
    "latlng_df = clean_city_data_df[[\"Lat\", \"Lng\"]].astype(float)\n",
    "latlng_df.head()\n",
    "humidity_df = clean_city_data_df[\"Humidity\"].astype(float)\n",
    "humidity_df.head()"
   ]
  },
  {
   "cell_type": "code",
   "execution_count": 11,
   "metadata": {},
   "outputs": [
    {
     "data": {
      "application/vnd.jupyter.widget-view+json": {
       "model_id": "2a71a7d861ad4b26bf19e480df369fa4",
       "version_major": 2,
       "version_minor": 0
      },
      "text/plain": [
       "Figure(layout=FigureLayout(height='420px'))"
      ]
     },
     "metadata": {},
     "output_type": "display_data"
    },
    {
     "data": {
      "text/plain": [
       "<Figure size 432x288 with 0 Axes>"
      ]
     },
     "metadata": {},
     "output_type": "display_data"
    }
   ],
   "source": [
    "fig = gmaps.figure(center=(50.0, 0.0), zoom_level=2)\n",
    "heatmap_layer = gmaps.heatmap_layer(latlng_df, weights=humidity_df, max_intensity=100, \n",
    "                                    point_radius=3.0, dissipating=False, opacity=.5)\n",
    "fig.add_layer(heatmap_layer)\n",
    "fig"
   ]
  },
  {
   "cell_type": "markdown",
   "metadata": {},
   "source": [
    "### Create new DataFrame fitting weather criteria\n",
    "* Narrow down the cities to fit weather conditions.\n",
    "    * A max temperature lower than 80 degrees but higher than 70\n",
    "    * Wind speed less than 10 mph.\n",
    "    * Zero cloudiness.\n",
    "* Drop any rows will null values."
   ]
  },
  {
   "cell_type": "code",
   "execution_count": null,
   "metadata": {},
   "outputs": [],
   "source": [
    "hotel_df = clean_city_data_df.loc[((clean_city_data_df[\"Max Temp\"] < 80 & clean_city_data_df[\"Max Temp\"] > 70) &\n",
    "                                   (clean_city_data_df[\"Wind Speed\"] < 10) &\n",
    "                                   (clean_city_data_df[\"Cloudiness\"] == 0)), :]\n",
    "hotel_df = hotel_df.dropna(how=\"any\")\n",
    "hotel_df.head()"
   ]
  },
  {
   "cell_type": "markdown",
   "metadata": {},
   "source": [
    "### Hotel Map\n",
    "* Store into variable named `hotel_df`.\n",
    "* Add a \"Hotel Name\" column to the DataFrame.\n",
    "* Set parameters to search for hotels with 5000 meters.\n",
    "* Hit the Google Places API for each city's coordinates.\n",
    "* Store the first Hotel result into the DataFrame.\n",
    "* Plot markers on top of the heatmap."
   ]
  },
  {
   "cell_type": "code",
   "execution_count": null,
   "metadata": {},
   "outputs": [],
   "source": [
    "hotel_df[\"Hotel Name\"] = \"\"\n",
    "base_url = \"https://maps.googleapis.com/maps/api/place/textsearch/json?location=\""
   ]
  },
  {
   "cell_type": "code",
   "execution_count": null,
   "metadata": {},
   "outputs": [],
   "source": [
    "test_url = f\"{base_url}65.6145,-37.6368&radius=5000&type=hotel&key={g_key}\"\n",
    "response = requests.get(test_url)\n",
    "data = response.json()\n",
    "print(json.dumps(data, indent=4, sort_keys=True))\n",
    "\n",
    "# Iterate over the rows in the dataframe\n",
    "# for index, row in hotel_df.iterrows():\n",
    "# \n",
    "#     # get restaurant type from df\n",
    "#     city = row['City']\n",
    "#     country = row['Country']\n",
    "#     lat = row['Lat']\n",
    "#     lng = row['Lng']\n",
    "#     \n",
    "#     # set up the url\n",
    "#     url = f\"{base_url}{lat},{lng}&radius=5000&type=hotel&key={g_key}\"\n",
    "#     \n",
    "#     # Make API request\n",
    "#     print(f\"Retrieving Results for Index {index}: {city}.\")\n",
    "#     response = requests.get(url)\n",
    "#     data = response.json()\n",
    "#     \n",
    "#     # Get the results\n",
    "#     results = data['results']\n",
    "#     \n",
    "#     try:\n",
    "#         name = response['results'][7]['name']\n",
    "#         print(f\"Nearest hotel to {city} at is {name}.\")\n",
    "#         \n",
    "#         hotel_df.loc[index, \"Hotel Name\"] = name\n",
    "#         \n",
    "#     except (KeyError, IndexError):\n",
    "#         print(f\"Error with city={city}, skipping...\")"
   ]
  },
  {
   "cell_type": "code",
   "execution_count": null,
   "metadata": {},
   "outputs": [],
   "source": [
    "# NOTE: Do not change any of the code in this cell\n",
    "\n",
    "# Using the template add the hotel marks to the heatmap\n",
    "info_box_template = \"\"\"\n",
    "<dl>\n",
    "<dt>Name</dt><dd>{Hotel Name}</dd>\n",
    "<dt>City</dt><dd>{City}</dd>\n",
    "<dt>Country</dt><dd>{Country}</dd>\n",
    "</dl>\n",
    "\"\"\"\n",
    "# Store the DataFrame Row\n",
    "# NOTE: be sure to update with your DataFrame name\n",
    "hotel_info = [info_box_template.format(**row) for index, row in hotel_df.iterrows()]\n",
    "locations = hotel_df[[\"Lat\", \"Lng\"]]"
   ]
  },
  {
   "cell_type": "code",
   "execution_count": null,
   "metadata": {},
   "outputs": [],
   "source": [
    "# Add marker layer ontop of heat map\n",
    "\n",
    "\n",
    "# Display figure\n"
   ]
  },
  {
   "cell_type": "code",
   "execution_count": null,
   "metadata": {},
   "outputs": [],
   "source": []
  }
 ],
 "metadata": {
  "kernelspec": {
   "display_name": "Python [conda env:dataviz] *",
   "language": "python",
   "name": "conda-env-dataviz-py"
  },
  "language_info": {
   "codemirror_mode": {
    "name": "ipython",
    "version": 3
   },
   "file_extension": ".py",
   "mimetype": "text/x-python",
   "name": "python",
   "nbconvert_exporter": "python",
   "pygments_lexer": "ipython3",
   "version": "3.8.3"
  },
  "latex_envs": {
   "LaTeX_envs_menu_present": true,
   "autoclose": false,
   "autocomplete": true,
   "bibliofile": "biblio.bib",
   "cite_by": "apalike",
   "current_citInitial": 1,
   "eqLabelWithNumbers": true,
   "eqNumInitial": 1,
   "hotkeys": {
    "equation": "Ctrl-E",
    "itemize": "Ctrl-I"
   },
   "labels_anchors": false,
   "latex_user_defs": false,
   "report_style_numbering": false,
   "user_envs_cfg": false
  }
 },
 "nbformat": 4,
 "nbformat_minor": 4
}
